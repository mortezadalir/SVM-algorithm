{
 "cells": [
  {
   "cell_type": "code",
   "execution_count": 1,
   "id": "91a2b261",
   "metadata": {},
   "outputs": [],
   "source": [
    "import numpy as np\n",
    "import matplotlib.pyplot as plt\n",
    "from cvxopt import matrix\n",
    "\n",
    "\n"
   ]
  },
  {
   "cell_type": "code",
   "execution_count": 114,
   "id": "dc7740cd",
   "metadata": {},
   "outputs": [
    {
     "data": {
      "image/png": "[encoded data removed]",
      "text/plain": [
       "<Figure size 432x288 with 1 Axes>"
      ]
     },
     "metadata": {
      "needs_background": "light"
     },
     "output_type": "display_data"
    }
   ],
   "source": [
    "X=np.array([[1,2,2,-1,-2,-2],[0,1,-1,-.5,1,-1]])\n",
    "Y=np.array([[1],[1],[1],[-1],[-1],[-1]])\n",
    "c=[]\n",
    "for item in Y:\n",
    "    if item==1:\n",
    "        c.append('red')\n",
    "    else:\n",
    "        c.append('blue')\n",
    "plt.scatter(X[0,:],X[1,:],c=c)\n",
    "plt.show()"
   ]
  },
  {
   "cell_type": "code",
   "execution_count": 119,
   "id": "0e3d3b12",
   "metadata": {},
   "outputs": [],
   "source": [
    "m,n= X.shape\n",
    "C=1\n",
    "A1=np.zeros((6,6))\n",
    "for i in range(n):\n",
    "    for j in range(n):\n",
    "        A1[i,j]=np.matmul(X[:,i].T,X[:,j])\n",
    "A1=A1+(1/C)*np.identity(6)\n",
    "for i in range(n):\n",
    "    for j in range(n):\n",
    "        A1[i,j]=Y[i]*Y[j]*A1[i,j]\n",
    "Aineq=matrix(-1*np.identity(6))\n",
    "bineq=matrix(np.zeros((6,1)))"
   ]
  },
  {
   "cell_type": "code",
   "execution_count": 120,
   "id": "3dc19d45",
   "metadata": {},
   "outputs": [
    {
     "data": {
      "text/plain": [
       "<1x1 matrix, tc='d'>"
      ]
     },
     "execution_count": 120,
     "metadata": {},
     "output_type": "execute_result"
    }
   ],
   "source": [
    "f=-1*np.ones((6,1))\n",
    "Aeq=matrix(Y.T,tc='d')\n",
    "beq=matrix(np.array([[0]]),tc=\"d\")\n",
    "beq\n"
   ]
  },
  {
   "cell_type": "code",
   "execution_count": 121,
   "id": "e226710b",
   "metadata": {},
   "outputs": [
    {
     "name": "stdout",
     "output_type": "stream",
     "text": [
      "     pcost       dcost       gap    pres   dres\n",
      " 0: -3.0856e-01 -8.0451e-01  8e+00  3e+00  1e+00\n",
      " 1: -1.8612e-01 -7.2326e-01  5e-01  2e-16  3e-16\n",
      " 2: -3.0142e-01 -3.4614e-01  4e-02  1e-16  3e-16\n",
      " 3: -3.1732e-01 -3.2071e-01  3e-03  1e-16  1e-16\n",
      " 4: -3.1978e-01 -3.2001e-01  2e-04  9e-17  1e-16\n",
      " 5: -3.2000e-01 -3.2000e-01  4e-06  5e-17  2e-16\n",
      " 6: -3.2000e-01 -3.2000e-01  4e-08  1e-16  2e-16\n",
      "Optimal solution found.\n"
     ]
    }
   ],
   "source": [
    "from cvxopt import solvers\n",
    "sol = solvers.qp(matrix(A1,tc='d'),matrix(f,tc='d'),Aineq,bineq,Aeq,beq)\n",
    "\n",
    "\n"
   ]
  },
  {
   "cell_type": "code",
   "execution_count": 122,
   "id": "7d34f8f4",
   "metadata": {},
   "outputs": [],
   "source": [
    "alpha=np.array(sol['x'])\n",
    "w=np.zeros((1,2))\n",
    "for i in range(n):\n",
    "    w=w+alpha[i]*Y[i]*X[:,i]\n",
    "\n",
    "w=w.T"
   ]
  },
  {
   "cell_type": "code",
   "execution_count": 123,
   "id": "e6061649",
   "metadata": {},
   "outputs": [],
   "source": [
    "xx=np.where(alpha.T[0]>.1)\n",
    "\n",
    "for item in xx[0]:\n",
    "    if Y[item]<0:\n",
    "        x_mines=X[:,item]\n",
    "    if Y[item]>0:\n",
    "        x_plus=X[:,item]\n",
    "b=(-0.5)*np.dot(w.T,(x_plus+x_mines))\n",
    "\n"
   ]
  },
  {
   "cell_type": "code",
   "execution_count": 124,
   "id": "f368c54a",
   "metadata": {},
   "outputs": [
    {
     "data": {
      "image/png": "[encoded data removed]",
      "text/plain": [
       "<Figure size 432x288 with 1 Axes>"
      ]
     },
     "metadata": {
      "needs_background": "light"
     },
     "output_type": "display_data"
    }
   ],
   "source": [
    "x1=np.linspace(-5,5,200)\n",
    "x2=-(w[0]/w[1])*x1-b/(w[1])\n",
    "plt.scatter(X[0,:],X[1,:],c=c)\n",
    "plt.plot(x1,x2,)\n",
    "plt.ylim([-5, 5])\n",
    "plt.show()"
   ]
  },
  {
   "cell_type": "code",
   "execution_count": null,
   "id": "7c4e331d",
   "metadata": {},
   "outputs": [],
   "source": [
    "print(Aineq)\n",
    "print(f)\n",
    "print(H)\n",
    "print(bineq)"
   ]
  },
  {
   "cell_type": "code",
   "execution_count": null,
   "id": "3cc15992",
   "metadata": {},
   "outputs": [],
   "source": [
    "from cvxopt import solvers\n",
    "sol = solvers.qp(H,f,Aineq,bineq)\n",
    "print(sol['x'])\n"
   ]
  },
  {
   "cell_type": "code",
   "execution_count": null,
   "id": "fc2900d0",
   "metadata": {},
   "outputs": [],
   "source": [
    "w=sol['x'][0:2]\n",
    "w=np.array(w)\n"
   ]
  }
 ],
 "metadata": {
  "kernelspec": {
   "display_name": "Python 3",
   "language": "python",
   "name": "python3"
  },
  "language_info": {
   "codemirror_mode": {
    "name": "ipython",
    "version": 3
   },
   "file_extension": ".py",
   "mimetype": "text/x-python",
   "name": "python",
   "nbconvert_exporter": "python",
   "pygments_lexer": "ipython3",
   "version": "3.5.1"
  }
 },
 "nbformat": 4,
 "nbformat_minor": 5
}
