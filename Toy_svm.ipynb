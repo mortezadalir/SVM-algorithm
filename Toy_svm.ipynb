{
 "cells": [
  {
   "cell_type": "code",
   "execution_count": 1,
   "id": "763491b6",
   "metadata": {},
   "outputs": [],
   "source": [
    "import numpy as np\n",
    "import matplotlib.pyplot as plt\n",
    "from cvxopt import matrix\n",
    "\n",
    "\n"
   ]
  },
  {
   "cell_type": "code",
   "execution_count": 89,
   "id": "c062f862",
   "metadata": {},
   "outputs": [
    {
     "data": {
      "image/png": "[encoded data removed]",
      "text/plain": [
       "<Figure size 432x288 with 1 Axes>"
      ]
     },
     "metadata": {
      "needs_background": "light"
     },
     "output_type": "display_data"
    }
   ],
   "source": [
    "X=np.array([[1,2,2,-1,-2,-2],[0,1,-1,0,1,-1]])\n",
    "Y=np.array([[1],[1],[1],[-1],[-1],[-1]])\n",
    "c=[]\n",
    "for item in Y:\n",
    "    if item==1:\n",
    "        c.append('red')\n",
    "    else:\n",
    "        c.append('blue')\n",
    "plt.scatter(X[0,:],X[1,:],c=c)\n",
    "plt.show()"
   ]
  },
  {
   "cell_type": "code",
   "execution_count": 90,
   "id": "080d5242",
   "metadata": {},
   "outputs": [],
   "source": [
    "m,n= X.shape\n",
    "C=1\n",
    "A1=np.zeros((6,6))\n",
    "for i in range(n):\n",
    "    for j in range(n):\n",
    "        A1[i,j]=np.matmul(X[:,i].T,X[:,j])\n",
    "A1=A1+(1/C)*np.identity(6)\n",
    "for i in range(n):\n",
    "    for j in range(n):\n",
    "        A1[i,j]=Y[i]*Y[j]*A1[i,j]\n",
    "Aineq=matrix(-1*np.identity(6))\n",
    "bineq=matrix(np.zeros((6,1)))"
   ]
  },
  {
   "cell_type": "code",
   "execution_count": 105,
   "id": "e568b4c4",
   "metadata": {},
   "outputs": [
    {
     "data": {
      "text/plain": [
       "<1x1 matrix, tc='d'>"
      ]
     },
     "execution_count": 105,
     "metadata": {},
     "output_type": "execute_result"
    }
   ],
   "source": [
    "f=-1*np.ones((6,1))\n",
    "Aeq=matrix(Y.T,tc='d')\n",
    "beq=matrix(np.array([[0]]),tc=\"d\")\n",
    "beq\n"
   ]
  },
  {
   "cell_type": "code",
   "execution_count": 108,
   "id": "46b15066",
   "metadata": {},
   "outputs": [
    {
     "name": "stdout",
     "output_type": "stream",
     "text": [
      "     pcost       dcost       gap    pres   dres\n",
      " 0: -3.1250e-01 -8.1250e-01  8e+00  2e+00  1e+00\n",
      " 1: -1.9403e-01 -7.2496e-01  5e-01  3e-16  4e-16\n",
      " 2: -3.1118e-01 -3.5319e-01  4e-02  8e-17  3e-16\n",
      " 3: -3.3130e-01 -3.3353e-01  2e-03  1e-16  2e-16\n",
      " 4: -3.3331e-01 -3.3334e-01  2e-05  7e-17  2e-16\n",
      " 5: -3.3333e-01 -3.3333e-01  2e-07  6e-17  2e-16\n",
      "Optimal solution found.\n"
     ]
    },
    {
     "data": {
      "text/plain": [
       "array([[3.33332880e-01],\n",
       "       [1.73219245e-07],\n",
       "       [1.73219245e-07],\n",
       "       [3.33332880e-01],\n",
       "       [1.73219245e-07],\n",
       "       [1.73219245e-07]])"
      ]
     },
     "execution_count": 108,
     "metadata": {},
     "output_type": "execute_result"
    }
   ],
   "source": [
    "from cvxopt import solvers\n",
    "sol = solvers.qp(matrix(A1,tc='d'),matrix(f,tc='d'),Aineq,bineq,Aeq,beq)\n",
    "alpha=np.array(sol['x'])\n",
    "alpha"
   ]
  },
  {
   "cell_type": "code",
   "execution_count": null,
   "id": "ed5d4402",
   "metadata": {},
   "outputs": [],
   "source": [
    "A=np.zeros((n,m))\n",
    "for i in range(n):\n",
    "    for j in range(m):\n",
    "        A[i,j]=y[i]*X[j,i]\n",
    "        \n",
    "Aineq=matrix(-1*np.concatenate((A,np.identity(6),xx),axis=1),tc=\"d\")\n",
    "bineq=matrix(-1*np.ones((6,1)),tc='d')\n",
    "H=matrix(np.concatenate((np.identity(2),np.zeros((2,7))),axis=1),tc=\"d\")\n",
    "H=matrix(np.concatenate((H,np.zeros((7,9))),axis=0),tc=\"d\")\n",
    "f=matrix(np.concatenate((np.zeros((2,1)),np.ones((6,1)),np.zeros((1,1))),axis=0),tc=\"d\")\n"
   ]
  },
  {
   "cell_type": "code",
   "execution_count": null,
   "id": "5c9ba0d4",
   "metadata": {},
   "outputs": [],
   "source": [
    "print(Aineq)\n",
    "print(f)\n",
    "print(H)\n",
    "print(bineq)"
   ]
  },
  {
   "cell_type": "code",
   "execution_count": 35,
   "id": "ca671937",
   "metadata": {},
   "outputs": [
    {
     "ename": "ValueError",
     "evalue": "use of function valued P, G, A requires a user-provided kktsolver",
     "output_type": "error",
     "traceback": [
      "\u001b[1;31m---------------------------------------------------------------------------\u001b[0m",
      "\u001b[1;31mValueError\u001b[0m                                Traceback (most recent call last)",
      "\u001b[1;32m<ipython-input-35-32dfab0b5d9a>\u001b[0m in \u001b[0;36m<module>\u001b[1;34m\u001b[0m\n\u001b[0;32m      1\u001b[0m \u001b[1;32mfrom\u001b[0m \u001b[0mcvxopt\u001b[0m \u001b[1;32mimport\u001b[0m \u001b[0msolvers\u001b[0m\u001b[1;33m\u001b[0m\u001b[0m\n\u001b[1;32m----> 2\u001b[1;33m \u001b[0msol\u001b[0m \u001b[1;33m=\u001b[0m \u001b[0msolvers\u001b[0m\u001b[1;33m.\u001b[0m\u001b[0mqp\u001b[0m\u001b[1;33m(\u001b[0m\u001b[0mH\u001b[0m\u001b[1;33m,\u001b[0m\u001b[0mf\u001b[0m\u001b[1;33m,\u001b[0m\u001b[1;33m[\u001b[0m\u001b[1;33m]\u001b[0m\u001b[1;33m,\u001b[0m\u001b[1;33m[\u001b[0m\u001b[1;33m]\u001b[0m\u001b[1;33m)\u001b[0m\u001b[1;33m\u001b[0m\u001b[0m\n\u001b[0m\u001b[0;32m      3\u001b[0m \u001b[0mprint\u001b[0m\u001b[1;33m(\u001b[0m\u001b[0msol\u001b[0m\u001b[1;33m[\u001b[0m\u001b[1;34m'x'\u001b[0m\u001b[1;33m]\u001b[0m\u001b[1;33m)\u001b[0m\u001b[1;33m\u001b[0m\u001b[0m\n",
      "\u001b[1;32mc:\\users\\daliriyan\\appdata\\local\\programs\\python\\python35\\lib\\site-packages\\cvxopt\\coneprog.py\u001b[0m in \u001b[0;36mqp\u001b[1;34m(P, q, G, h, A, b, solver, kktsolver, initvals, **kwargs)\u001b[0m\n\u001b[0;32m   4483\u001b[0m             'residual as dual infeasibility certificate': dinfres}\n\u001b[0;32m   4484\u001b[0m \u001b[1;33m\u001b[0m\u001b[0m\n\u001b[1;32m-> 4485\u001b[1;33m     \u001b[1;32mreturn\u001b[0m \u001b[0mconeqp\u001b[0m\u001b[1;33m(\u001b[0m\u001b[0mP\u001b[0m\u001b[1;33m,\u001b[0m \u001b[0mq\u001b[0m\u001b[1;33m,\u001b[0m \u001b[0mG\u001b[0m\u001b[1;33m,\u001b[0m \u001b[0mh\u001b[0m\u001b[1;33m,\u001b[0m \u001b[1;32mNone\u001b[0m\u001b[1;33m,\u001b[0m \u001b[0mA\u001b[0m\u001b[1;33m,\u001b[0m  \u001b[0mb\u001b[0m\u001b[1;33m,\u001b[0m \u001b[0minitvals\u001b[0m\u001b[1;33m,\u001b[0m \u001b[0mkktsolver\u001b[0m \u001b[1;33m=\u001b[0m \u001b[0mkktsolver\u001b[0m\u001b[1;33m,\u001b[0m \u001b[0moptions\u001b[0m \u001b[1;33m=\u001b[0m \u001b[0moptions\u001b[0m\u001b[1;33m)\u001b[0m\u001b[1;33m\u001b[0m\u001b[0m\n\u001b[0m",
      "\u001b[1;32mc:\\users\\daliriyan\\appdata\\local\\programs\\python\\python35\\lib\\site-packages\\cvxopt\\coneprog.py\u001b[0m in \u001b[0;36mconeqp\u001b[1;34m(P, q, G, h, dims, A, b, initvals, kktsolver, xnewcopy, xdot, xaxpy, xscal, ynewcopy, ydot, yaxpy, yscal, **kwargs)\u001b[0m\n\u001b[0;32m   1820\u001b[0m     if (not matrixP or (not matrixG and G is not None) or\n\u001b[0;32m   1821\u001b[0m         (not matrixA and A is not None)) and not customkkt:\n\u001b[1;32m-> 1822\u001b[1;33m         raise ValueError(\"use of function valued P, G, A requires a \"\\\n\u001b[0m\u001b[0;32m   1823\u001b[0m             \"user-provided kktsolver\")\n\u001b[0;32m   1824\u001b[0m     customx = (xnewcopy != None or xdot != None or xaxpy != None or\n",
      "\u001b[1;31mValueError\u001b[0m: use of function valued P, G, A requires a user-provided kktsolver"
     ]
    }
   ],
   "source": [
    "from cvxopt import solvers\n",
    "sol = solvers.qp(H,f,Aineq,bineq)\n",
    "print(sol['x'])\n"
   ]
  },
  {
   "cell_type": "code",
   "execution_count": null,
   "id": "6b9985c4",
   "metadata": {},
   "outputs": [],
   "source": [
    "w=sol['x'][0:2]\n",
    "w=np.array(w)\n"
   ]
  }
 ],
 "metadata": {
  "kernelspec": {
   "display_name": "Python 3",
   "language": "python",
   "name": "python3"
  },
  "language_info": {
   "codemirror_mode": {
    "name": "ipython",
    "version": 3
   },
   "file_extension": ".py",
   "mimetype": "text/x-python",
   "name": "python",
   "nbconvert_exporter": "python",
   "pygments_lexer": "ipython3",
   "version": "3.5.1"
  }
 },
 "nbformat": 4,
 "nbformat_minor": 5
}
