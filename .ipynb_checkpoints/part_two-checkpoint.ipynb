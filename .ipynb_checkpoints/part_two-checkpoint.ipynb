{
 "cells": [
  {
   "cell_type": "code",
   "execution_count": 62,
   "id": "3fb5199e",
   "metadata": {},
   "outputs": [],
   "source": [
    "import numpy as np\n",
    "import pandas as pd\n",
    "import matplotlib.pyplot as plt\n",
    "from sklearn.model_selection import train_test_split"
   ]
  },
  {
   "cell_type": "code",
   "execution_count": 63,
   "id": "f90f47f2",
   "metadata": {},
   "outputs": [],
   "source": [
    "data=pd.read_csv(\"data.csv\")\n",
    "data.drop(['id','Unnamed: 32'],axis=1, inplace=True)\n"
   ]
  },
  {
   "cell_type": "code",
   "execution_count": 96,
   "id": "5ecef943",
   "metadata": {},
   "outputs": [
    {
     "data": {
      "text/plain": [
       "'M'"
      ]
     },
     "execution_count": 96,
     "metadata": {},
     "output_type": "execute_result"
    }
   ],
   "source": [
    "my_data=data.loc[:,'radius_mean':'texture_mean']\n",
    "Y_data=data.loc[:,'diagnosis']\n",
    "Y_data[i]"
   ]
  },
  {
   "cell_type": "code",
   "execution_count": 97,
   "id": "f6775b83",
   "metadata": {},
   "outputs": [],
   "source": [
    "label=[]\n",
    "Y=np.array([])\n",
    "for i in range(len(Y_data)):\n",
    "    if Y_data.loc[i]==\"M\":\n",
    "        Y=np.append(Y,1)\n",
    "    else:\n",
    "        Y=np.append(Y,0)\n",
    "\n"
   ]
  },
  {
   "cell_type": "code",
   "execution_count": 172,
   "id": "60dcbb26",
   "metadata": {},
   "outputs": [
    {
     "data": {
      "image/png": "[encoded data removed]",
      "text/plain": [
       "<Figure size 432x288 with 1 Axes>"
      ]
     },
     "metadata": {
      "needs_background": "light"
     },
     "output_type": "display_data"
    }
   ],
   "source": [
    "X_train, X_test, y_train, y_test = train_test_split( my_data, Y, test_size=.9, random_state=42)\n",
    "label=[]\n",
    "\n",
    "for i in range(len(y_train)):\n",
    "    if y_train[i]==1:\n",
    "        label.append(\"red\")\n",
    "        \n",
    "    else:\n",
    "        label.append(\"blue\")\n",
    "        \n",
    "plt.scatter(X_train['radius_mean'],X_train['texture_mean'],c=label,s=10)\n",
    "plt.show()"
   ]
  },
  {
   "cell_type": "code",
   "execution_count": 99,
   "id": "0dccc0ce",
   "metadata": {},
   "outputs": [],
   "source": [
    "import math\n",
    "def sigmoid(z):\n",
    "    sig=1/(1+math.exp(-z))\n",
    "    return sig"
   ]
  },
  {
   "cell_type": "code",
   "execution_count": 170,
   "id": "a3e4d06d",
   "metadata": {},
   "outputs": [],
   "source": [
    "teta=np.array([.1,.1,.1])\n",
    "\n"
   ]
  },
  {
   "cell_type": "code",
   "execution_count": 108,
   "id": "6b5ab66b",
   "metadata": {},
   "outputs": [],
   "source": [
    "x=X_train.values\n",
    "x.shape\n",
    "x=np.concatenate((np.ones((len(x),1)),x),axis=1)\n",
    "\n"
   ]
  },
  {
   "cell_type": "code",
   "execution_count": 109,
   "id": "c9d5b53a",
   "metadata": {},
   "outputs": [],
   "source": [
    "def cost(x,y,teta):\n",
    "    m=len(y)\n",
    "    cost_value=0\n",
    "    for i in range(m):\n",
    "        h_teta=sigmoid(np.matmul(teta.T,x[i]))\n",
    "        cost_iter=y[i]*(np.log(h_teta))+(1-y[i])*((np.log(1-h_teta)))\n",
    "        cost_value=cost_value+ cost_iter\n",
    "    return (-1/m)*cost_value"
   ]
  },
  {
   "cell_type": "code",
   "execution_count": 111,
   "id": "9565394f",
   "metadata": {},
   "outputs": [
    {
     "data": {
      "text/plain": [
       "2.057846464142227"
      ]
     },
     "execution_count": 111,
     "metadata": {},
     "output_type": "execute_result"
    }
   ],
   "source": [
    "cost(x,y_train,teta)\n"
   ]
  },
  {
   "cell_type": "code",
   "execution_count": 112,
   "id": "61b14d12",
   "metadata": {},
   "outputs": [],
   "source": [
    "def calculate_weight1(x,y,teta,rate):\n",
    "    \n",
    "    m=len(y)\n",
    "    \n",
    "    sum_error1=np.zeros((1,3))\n",
    "   \n",
    "    for i in range(m):\n",
    "        h_teta=sigmoid(np.matmul(teta.T,x[i]))\n",
    "        sum_error1=sum_error1+((h_teta-y[i])*x[i])\n",
    "    return teta-rate*sum_error1\n"
   ]
  },
  {
   "cell_type": "code",
   "execution_count": 113,
   "id": "86b3edc3",
   "metadata": {},
   "outputs": [],
   "source": [
    "def calculate_weight(x,y,teta,rate):\n",
    "    \n",
    "    m=len(y)\n",
    "    \n",
    "    sum_error1=np.zeros((1,3))\n",
    "   \n",
    "    for i in range(m):\n",
    "        \n",
    "        h_teta=sigmoid(np.matmul(teta.T,x[i]))\n",
    "        \n",
    "        sum_error1=sum_error1+((h_teta-y[i])*x[i])\n",
    "    return teta-rate*sum_error1[0]"
   ]
  },
  {
   "cell_type": "code",
   "execution_count": 115,
   "id": "5a629673",
   "metadata": {},
   "outputs": [],
   "source": [
    "teta=calculate_weight(x,y_train,teta,rate=0.001)\n"
   ]
  },
  {
   "cell_type": "code",
   "execution_count": 116,
   "id": "f082ed4b",
   "metadata": {},
   "outputs": [
    {
     "data": {
      "text/plain": [
       "(56, 3)"
      ]
     },
     "execution_count": 116,
     "metadata": {},
     "output_type": "execute_result"
    }
   ],
   "source": [
    "x.shape"
   ]
  },
  {
   "cell_type": "code",
   "execution_count": 118,
   "id": "36fee0ff",
   "metadata": {},
   "outputs": [],
   "source": [
    "for i in range(10000):\n",
    "    teta=calculate_weight(x,y_train,teta,rate=0.001)\n",
    "    #cost(x,y[0:100],teta[0])"
   ]
  },
  {
   "cell_type": "code",
   "execution_count": 120,
   "id": "cb053d3a",
   "metadata": {},
   "outputs": [
    {
     "data": {
      "text/plain": [
       "0.46355727910191213"
      ]
     },
     "execution_count": 120,
     "metadata": {},
     "output_type": "execute_result"
    }
   ],
   "source": [
    "cost(x,y_train,teta)"
   ]
  },
  {
   "cell_type": "code",
   "execution_count": 121,
   "id": "aff95fea",
   "metadata": {},
   "outputs": [
    {
     "data": {
      "text/plain": [
       "2.648907103825137"
      ]
     },
     "execution_count": 121,
     "metadata": {},
     "output_type": "execute_result"
    }
   ],
   "source": [
    "1.939/.732\n",
    "\n",
    "    "
   ]
  },
  {
   "cell_type": "code",
   "execution_count": 122,
   "id": "936ea512",
   "metadata": {},
   "outputs": [],
   "source": [
    "def my_plot(teta):\n",
    "    x=np.linspace(10,20,300)\n",
    "    y=(-teta[0]/teta[2])+(-teta[1]/teta[2])*x\n",
    "    plt.plot(x,y)"
   ]
  },
  {
   "cell_type": "code",
   "execution_count": null,
   "id": "2154e5d4",
   "metadata": {},
   "outputs": [],
   "source": []
  },
  {
   "cell_type": "code",
   "execution_count": 158,
   "id": "3987c083",
   "metadata": {},
   "outputs": [],
   "source": [
    "x_t=X_test.values\n",
    "x_t.shape\n",
    "x_t=np.concatenate((np.ones((513,1)),x_t),axis=1)\n",
    "\n",
    "g_X_teta=np.matmul(teta.T,x_t.T)\n",
    "y_predicted=np.ones(len(x_t))\n",
    "for i in range(len(g_X_teta)):\n",
    "    temp=sigmoid(g_X_teta[i])\n",
    "    if temp <.5:\n",
    "        y_predicted[i]=0\n",
    "        \n",
    "    \n",
    "    "
   ]
  },
  {
   "cell_type": "code",
   "execution_count": 169,
   "id": "d38ea203",
   "metadata": {},
   "outputs": [
    {
     "name": "stdout",
     "output_type": "stream",
     "text": [
      "Error in percent: 18.51851851851852 %\n"
     ]
    }
   ],
   "source": [
    "k=np.where(y_predicted+y_test==1)\n",
    "error=(len(k[0])/len(x_t))*100\n",
    "print(\"Error in percent:\", error ,\"%\" )\n",
    "\n"
   ]
  },
  {
   "cell_type": "code",
   "execution_count": null,
   "id": "8c8a20a6",
   "metadata": {},
   "outputs": [],
   "source": [
    "\n"
   ]
  },
  {
   "cell_type": "code",
   "execution_count": null,
   "id": "bc26dbb0",
   "metadata": {},
   "outputs": [],
   "source": []
  }
 ],
 "metadata": {
  "kernelspec": {
   "display_name": "Python 3",
   "language": "python",
   "name": "python3"
  },
  "language_info": {
   "codemirror_mode": {
    "name": "ipython",
    "version": 3
   },
   "file_extension": ".py",
   "mimetype": "text/x-python",
   "name": "python",
   "nbconvert_exporter": "python",
   "pygments_lexer": "ipython3",
   "version": "3.5.1"
  }
 },
 "nbformat": 4,
 "nbformat_minor": 5
}
